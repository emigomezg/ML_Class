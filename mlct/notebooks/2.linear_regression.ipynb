{
 "cells": [
  {
   "cell_type": "code",
   "execution_count": 2,
   "id": "b703e756",
   "metadata": {},
   "outputs": [],
   "source": [
    "from sklearn.datasets import make_regression"
   ]
  },
  {
   "cell_type": "code",
   "execution_count": 3,
   "id": "14717546",
   "metadata": {},
   "outputs": [],
   "source": [
    "# X es mayuscula porque es matrix, y es un vector\n",
    "X, y = make_regression(n_samples = 150, n_features = 1, random_state = 42, noise = 50)"
   ]
  },
  {
   "cell_type": "code",
   "execution_count": 4,
   "id": "48a4f038",
   "metadata": {},
   "outputs": [
    {
     "data": {
      "text/plain": [
       "(150, 1)"
      ]
     },
     "execution_count": 4,
     "metadata": {},
     "output_type": "execute_result"
    }
   ],
   "source": [
    "X.shape"
   ]
  },
  {
   "cell_type": "code",
   "execution_count": 5,
   "id": "058b52c6",
   "metadata": {},
   "outputs": [
    {
     "data": {
      "text/plain": [
       "(150,)"
      ]
     },
     "execution_count": 5,
     "metadata": {},
     "output_type": "execute_result"
    }
   ],
   "source": [
    "y.shape"
   ]
  },
  {
   "cell_type": "code",
   "execution_count": 6,
   "id": "ad44ca13",
   "metadata": {},
   "outputs": [
    {
     "data": {
      "text/plain": [
       "<matplotlib.collections.PathCollection at 0x1314222f7d0>"
      ]
     },
     "execution_count": 6,
     "metadata": {},
     "output_type": "execute_result"
    },
    {
     "data": {
      "image/png": "[encoded data removed]",
      "text/plain": [
       "<Figure size 640x480 with 1 Axes>"
      ]
     },
     "metadata": {},
     "output_type": "display_data"
    }
   ],
   "source": [
    "import matplotlib.pyplot as plt\n",
    "\n",
    "plt.scatter(X,y)"
   ]
  },
  {
   "cell_type": "code",
   "execution_count": 7,
   "id": "4ed74b11",
   "metadata": {},
   "outputs": [],
   "source": [
    "from sklearn.model_selection import train_test_split\n",
    "\n",
    "X_train, X_test, y_train, y_test = train_test_split(X, y, test_size = 0.2, random_state = 42)"
   ]
  },
  {
   "cell_type": "code",
   "execution_count": 8,
   "id": "13d72915",
   "metadata": {},
   "outputs": [
    {
     "data": {
      "text/plain": [
       "((150, 1), (120, 1), (30, 1))"
      ]
     },
     "execution_count": 8,
     "metadata": {},
     "output_type": "execute_result"
    }
   ],
   "source": [
    "X.shape, X_train.shape, X_test.shape\n",
    "# Se sugiere 80% de training 20% de testing "
   ]
  },
  {
   "cell_type": "markdown",
   "id": "150001ac",
   "metadata": {},
   "source": [
    "$$\n",
    "f(x) = y \\approx h(x) = \\hat y\n",
    "%%"
   ]
  },
  {
   "cell_type": "code",
   "execution_count": 18,
   "id": "5ebfa832",
   "metadata": {},
   "outputs": [],
   "source": [
    "import numpy as np\n",
    "\n",
    "class LinearReg:\n",
    "\n",
    "    def __init__(self, lr = .001, epochs = 1000):\n",
    "        self.lr = lr\n",
    "        self.epochs = epochs\n",
    "        self.weights = None\n",
    "        self.bias = None\n",
    "\n",
    "    def fit(self, X, y, debug = False):\n",
    "        # M is the size of the samples\n",
    "        # N is the size of the features\n",
    "\n",
    "        m, n = X.shape\n",
    "\n",
    "        self.weights = np.random.rand(n, 1)\n",
    "        self.bias = np.random.rand(1)\n",
    "\n",
    "        y = y.reshape(m,1)\n",
    "\n",
    "        losses = []\n",
    "        b_list = []\n",
    "        w_list = []\n",
    "\n",
    "        for epoch in range(self.epochs):\n",
    "            # Calculate prediction \n",
    "            y_hat = np.dot(X, self.weights) + self.bias\n",
    "\n",
    "            # Save current loss\n",
    "            loss = np.mean((y_hat - y)**2)\n",
    "            losses.append(loss)\n",
    "\n",
    "            # Calculate gradient\n",
    "            dw = (-2/m) * np.dot(X.T, (y - y_hat))\n",
    "            db = (-2/m) * np.sum(y - y_hat)\n",
    "\n",
    "            # Update params\n",
    "            self.weights = self.weights - self.lr * dw\n",
    "            self.bias = self.bias - self.lr * db\n",
    "\n",
    "            # Save the params\n",
    "            w_list.append(self.weights)\n",
    "            b_list.append(self.bias)\n",
    "            if debug:\n",
    "                print(f\"epoch: {epoch}, loss: {loss}, weight: {self.weights}, bias: {self.bias}\")\n",
    "    \n",
    "    def predict(self,X):\n",
    "        \"\"\"\n",
    "        Predict values for input X using the trained parameters.\n",
    "        \"\"\"\n",
    "        if self.weights is None or self.bias is None:\n",
    "            raise Exception(\"Model has not been trained yet. Call fit() first.\")\n",
    "\n",
    "        # If X is a 1D array (single sample), reshape it to (1, n_features)\n",
    "        if X.ndim == 1:\n",
    "            X = X.reshape(1, X.shape[0])  # Fixed shape: (1, n_features)\n",
    "\n",
    "        return np.dot(X, self.weights) + self.bias\n",
    "\n"
   ]
  },
  {
   "cell_type": "code",
   "execution_count": null,
   "id": "22a98545",
   "metadata": {},
   "outputs": [
    {
     "name": "stdout",
     "output_type": "stream",
     "text": [
      "epoch: 0, loss: 11166.775706971368, weight: [[183.84563216]], bias: [-2.23851957]\n",
      "epoch: 1, loss: 9875.14551624211, weight: [[15.42877288]], bias: [30.37771322]\n",
      "epoch: 2, loss: 9622.285314338886, weight: [[175.46923808]], bias: [-29.98561056]\n",
      "epoch: 3, loss: 10168.334102676457, weight: [[18.5498946]], bias: [56.74477272]\n",
      "epoch: 4, loss: 11405.390190954295, weight: [[176.94697078]], bias: [-55.83845759]\n",
      "epoch: 5, loss: 13319.204668086833, weight: [[12.93348791]], bias: [82.84107984]\n",
      "epoch: 6, loss: 15968.440097146631, weight: [[186.40426981]], bias: [-82.86008151]\n",
      "epoch: 7, loss: 19475.735860002933, weight: [[-0.20357105]], bias: [111.42081699]\n",
      "epoch: 8, loss: 24027.227194839168, weight: [[203.17736633]], bias: [-113.60418136]\n",
      "epoch: 9, loss: 29878.728949971777, weight: [[-20.67243346]], bias: [144.92832567]\n",
      "epoch: 10, loss: 37367.85229960075, weight: [[227.4955409]], bias: [-150.48398537]\n",
      "epoch: 11, loss: 46932.086712151584, weight: [[-49.08124609]], bias: [185.81460863]\n",
      "epoch: 12, loss: 59133.48965307733, weight: [[260.32109831]], bias: [-196.05068996]\n",
      "epoch: 13, loss: 74691.1775914855, weight: [[-86.73406447]], bias: [236.78940438]\n",
      "epoch: 14, loss: 94523.37300858117, weight: [[303.29806359]], bias: [-253.22887995]\n",
      "epoch: 15, loss: 119801.38923312482, weight: [[-135.62252363]], bias: [301.0481549]\n",
      "epoch: 16, loss: 152018.67932434153, weight: [[358.78192633]], bias: [-325.54212414]\n",
      "epoch: 17, loss: 193078.9897334379, weight: [[-198.49032135]], bias: [382.50250167]\n",
      "epoch: 18, loss: 245408.80366655017, weight: [[429.93683409]], bias: [-417.3540949]\n",
      "epoch: 19, loss: 312100.7040052369, weight: [[-278.96220152]], bias: [486.03741815]\n",
      "epoch: 20, loss: 397096.1188544339, weight: [[520.89640846]], bias: [-534.14695118]\n",
      "epoch: 21, loss: 505418.24396094313, weight: [[-381.73750507]], bias: [617.81608759]\n",
      "epoch: 22, loss: 643468.9039831052, weight: [[636.99172327]], bias: [-682.85810417]\n",
      "epoch: 23, loss: 819406.8948067777, weight: [[-512.85501837]], bias: [785.65422868]\n",
      "epoch: 24, loss: 1043630.1655286445, weight: [[785.05620122]], bias: [-872.29817743]\n",
      "epoch: 25, loss: 1329390.3362181266, weight: [[-680.04183724]], bias: [999.48828814]\n",
      "epoch: 26, loss: 1693575.868975929, weight: [[973.82313156]], bias: [-1113.6766757]\n",
      "epoch: 27, loss: 2157710.177454944, weight: [[-893.16503549]], bias: [1271.96660157]\n",
      "epoch: 28, loss: 2749223.6630361294, weight: [[1214.43785838]], bias: [-1421.2675592]\n",
      "epoch: 29, loss: 3503074.8550390257, weight: [[-1164.81169179]], bias: [1619.19935195]\n",
      "epoch: 30, loss: 4463816.464496045, weight: [[1521.11401012]], bias: [-1813.25476303]\n",
      "epoch: 31, loss: 5688228.455506333, weight: [[-1511.03084423]], bias: [2061.7122046]\n",
      "epoch: 32, loss: 7248673.749023897, weight: [[1911.97199261]], bias: [-2312.80807092]\n",
      "epoch: 33, loss: 9237374.88162603, weight: [[-1952.28077948]], bias: [2625.66032455]\n",
      "epoch: 34, loss: 11771864.370384935, weight: [[2410.10895147]], bias: [-2949.45320087]\n",
      "epoch: 35, loss: 15001930.901166368, weight: [[-2514.63736551]], bias: [3344.37474127]\n",
      "epoch: 36, loss: 19118471.861057673, weight: [[3044.96322066]], bias: [-3760.81724557]\n",
      "epoch: 37, loss: 24364775.400835756, weight: [[-3231.33466861]], bias: [4260.33258522]\n",
      "epoch: 38, loss: 31050898.798955005, weight: [[3854.05376077]], bias: [-4794.85272952]\n",
      "epoch: 39, loss: 39571992.89039145, weight: [[-4144.72879817]], bias: [5427.66772176]\n",
      "epoch: 40, loss: 50431655.53666927, weight: [[4885.19730345]], bias: [-6112.67179105]\n",
      "epoch: 41, loss: 64271694.33043884, weight: [[-5308.80097603]], bias: [6915.37021314]\n",
      "epoch: 42, loss: 81910057.51463981, weight: [[6199.33418269]], bias: [-7792.15803123]\n",
      "epoch: 43, loss: 104389174.83891739, weight: [[-6792.34772032]], bias: [8811.36373004]\n",
      "epoch: 44, loss: 133037565.30471717, weight: [[7874.12982724]], bias: [-9932.56951597]\n",
      "epoch: 45, loss: 169548352.82547483, weight: [[-8683.04665852]], bias: [11227.70190842]\n",
      "epoch: 46, loss: 216079330.08848146, weight: [[10008.5647424]], bias: [-12660.40498559]\n",
      "epoch: 47, loss: 275380484.40676266, weight: [[-11092.63824326]], bias: [14307.1907698]\n",
      "epoch: 48, loss: 350956522.3567839, weight: [[12728.7842369]], bias: [-16136.87997549]\n",
      "epoch: 49, loss: 447273998.4309762, weight: [[-14163.52960133]], bias: [18231.82859885]\n",
      "epoch: 50, loss: 570025289.0376302, weight: [[16195.55360661]], bias: [-20567.45469402]\n",
      "epoch: 51, loss: 726465012.7487522, weight: [[-18077.21079771]], bias: [23233.56208106]\n",
      "epoch: 52, loss: 925838779.2799329, weight: [[20613.75937271]], bias: [-26213.97676042]\n",
      "epoch: 53, loss: 1179929606.327359, weight: [[-23064.98091329]], bias: [29607.99439298]\n",
      "epoch: 54, loss: 1503754297.5740275, weight: [[26244.5180954]], bias: [-33410.15644257]\n",
      "epoch: 55, loss: 1916450937.9034612, weight: [[-29421.61784649]], bias: [37731.85539675]\n",
      "epoch: 56, loss: 2442409956.913117, weight: [[33420.60839425]], bias: [-42581.28898498]\n",
      "epoch: 57, loss: 3112715606.7405, weight: [[-37522.79972441]], bias: [48085.26643135]\n",
      "epoch: 58, loss: 3966983045.7446427, weight: [[42566.13820811]], bias: [-54269.38962028]\n",
      "epoch: 59, loss: 5055699599.947385, weight: [[-47847.30753049]], bias: [61280.1155534]\n",
      "epoch: 60, loss: 6443208571.115536, weight: [[54221.60963212]], bias: [-69165.22674738]\n",
      "epoch: 61, loss: 8211511934.962065, weight: [[-61005.32112651]], bias: [78096.22020877]\n",
      "epoch: 62, loss: 10465116669.465792, weight: [[69075.86266634]], bias: [-88149.14644223]\n",
      "epoch: 63, loss: 13337211131.996254, weight: [[-77774.48096737]], bias: [99527.41455436]\n",
      "epoch: 64, loss: 16997536510.002125, weight: [[88006.78575606]], bias: [-112343.10103555]\n",
      "epoch: 65, loss: 21662418549.107994, weight: [[-99145.84676091]], bias: [126840.28519725]\n",
      "epoch: 66, loss: 27607552435.163757, weight: [[112133.19912212]], bias: [-143176.95665411]\n",
      "epoch: 67, loss: 35184296418.57711, weight: [[-126382.46923595]], bias: [161649.02664198]\n",
      "epoch: 68, loss: 44840437136.42337, weight: [[142880.97719333]], bias: [-182472.99851048]\n",
      "epoch: 69, loss: 57146653865.795166, weight: [[-161094.03661808]], bias: [206010.84041344]\n",
      "epoch: 70, loss: 72830245749.49423, weight: [[182067.3179859]], bias: [-232553.62821608]\n",
      "epoch: 71, loss: 92818115277.85645, weight: [[-205332.00743044]], bias: [262547.51595696]\n",
      "epoch: 72, loss: 118291548356.54242, weight: [[232008.13976218]], bias: [-296378.61804373]\n",
      "epoch: 73, loss: 150756028470.01974, weight: [[-261710.85198145]], bias: [334600.37876408]\n",
      "epoch: 74, loss: 192130210967.6357, weight: [[295654.95212622]], bias: [-377720.03388613]\n",
      "epoch: 75, loss: 244859315865.1261, weight: [[-333562.56792839]], bias: [426427.76317994]\n",
      "epoch: 76, loss: 312059640692.106, weight: [[376769.2906572]], bias: [-481385.16488167]\n",
      "epoch: 77, loss: 397702734115.19464, weight: [[-425133.6018084]], bias: [543456.68056321]\n",
      "epoch: 78, loss: 506850115023.8519, weight: [[480145.02419223]], bias: [-613500.63487991]\n",
      "epoch: 79, loss: 645952409009.976, weight: [[-541835.8146272]], bias: [692603.55642209]\n",
      "epoch: 80, loss: 823230581249.3549, weight: [[611891.67315009]], bias: [-781874.48677448]\n",
      "epoch: 81, loss: 1049161796701.9913, weight: [[-690566.32360711]], bias: [882682.99213647]\n",
      "epoch: 82, loss: 1337098622037.598, weight: [[779795.48304886]], bias: [-996457.63893829]\n",
      "epoch: 83, loss: 1704058164207.3167, weight: [[-880115.12278675]], bias: [1124928.7091416]\n",
      "epoch: 84, loss: 2171727783862.4495, weight: [[993779.59271323]], bias: [-1269931.98590163]\n",
      "epoch: 85, loss: 2767746821424.963, weight: [[-1121684.57290737]], bias: [1433657.46344788]\n",
      "epoch: 86, loss: 3527340086001.148, weight: [[1266490.49317732]], bias: [-1618459.9001059]\n",
      "epoch: 87, loss: 4495399646563.405, weight: [[-1429551.46251116]], bias: [1827115.16793845]\n",
      "epoch: 88, loss: 5729137959552.355, weight: [[1614045.43708684]], bias: [-2062639.43039242]\n",
      "epoch: 89, loss: 7301469133114.408, weight: [[-1821910.7681559]], bias: [2328555.22839171]\n",
      "epoch: 90, loss: 9305318161167.707, weight: [[2056984.97060157]], bias: [-2628721.64959143]\n",
      "epoch: 91, loss: 11859112803636.951, weight: [[-2321950.9800934]], bias: [2967612.82303944]\n",
      "epoch: 92, loss: 15113782683752.863, weight: [[2621486.8825678]], bias: [-3350162.09662547]\n",
      "epoch: 93, loss: 19261679250052.934, weight: [[-2959224.54531092]], bias: [3782056.34577635]\n",
      "epoch: 94, loss: 24547943774094.69, weight: [[3340913.31552794]], bias: [-4269598.00357401]\n",
      "epoch: 95, loss: 31284995234148.09, weight: [[-3771394.42131242]], bias: [4820019.52356121]\n",
      "epoch: 96, loss: 39870994320834.96, weight: [[4257782.47304587]], bias: [-5441368.16209744]\n",
      "epoch: 97, loss: 50813374790050.35, weight: [[-4806459.96221423]], bias: [6142846.12646274]\n",
      "epoch: 98, loss: 64758832869439.67, weight: [[5426281.45152896]], bias: [-6934724.35368119]\n",
      "epoch: 99, loss: 82531547096579.9, weight: [[-6125593.68733699]], bias: [7828715.39311485]\n"
     ]
    }
   ],
   "source": [
    "# Train the model\n",
    "model = LinearReg()\n",
    "model.fit(X_train, y_train)\n",
    "\n",
    "# Predict on test set\n",
    "y_hat = model.predict(X_test)\n",
    "\n",
    "# Calculate MSE on test set\n",
    "mse = np.mean((y_hat - y_test.reshape(-1, 1))**2)\n",
    "print(\"Test MSE:\", mse)\n",
    "\n",
    "# Create line for regression visualization\n",
    "X_line = np.linspace(X.min(), X.max(), 100).reshape(100, 1)\n",
    "y_line = model.predict(X_line)\n",
    "\n",
    "# Plot\n",
    "plt.scatter(X, y, alpha=0.5, label='Real data')\n",
    "plt.plot(X_line, y_line, color='r', label='Regression line')\n",
    "plt.xlabel('X')\n",
    "plt.ylabel('y')\n",
    "plt.title('Linear Regression')\n",
    "plt.legend()\n",
    "plt.show()\n"
   ]
  },
  {
   "cell_type": "code",
   "execution_count": 19,
   "id": "81564c3b",
   "metadata": {},
   "outputs": [
    {
     "name": "stdout",
     "output_type": "stream",
     "text": [
      "Test MSE: 2365.509110674516\n"
     ]
    },
    {
     "data": {
      "image/png": "[encoded data removed]",
      "text/plain": [
       "<Figure size 640x480 with 1 Axes>"
      ]
     },
     "metadata": {},
     "output_type": "display_data"
    }
   ],
   "source": [
    "# Train the model\n",
    "model = LinearReg()\n",
    "model.fit(X_train, y_train)\n",
    "\n",
    "# Predict on test set\n",
    "y_hat = model.predict(X_test)\n",
    "\n",
    "# Calculate MSE on test set\n",
    "mse = np.mean((y_hat - y_test.reshape(-1, 1))**2)\n",
    "print(\"Test MSE:\", mse)\n",
    "\n",
    "# Create line for regression visualization\n",
    "X_line = np.linspace(X.min(), X.max(), 100).reshape(100, 1)\n",
    "y_line = model.predict(X_line)\n",
    "\n",
    "# Plot\n",
    "plt.scatter(X, y, alpha=0.5, label='Real data')\n",
    "plt.plot(X_line, y_line, color='r', label='Regression line')\n",
    "plt.xlabel('X')\n",
    "plt.ylabel('y')\n",
    "plt.title('Linear Regression')\n",
    "plt.legend()\n",
    "plt.show()"
   ]
  },
  {
   "cell_type": "markdown",
   "id": "d724b5cd",
   "metadata": {},
   "source": [
    "Modified lr and epochs until I got something more or less better.\n",
    "\n",
    "I started with lr = 1 but the numbers were too big and the line was out of scale.\n",
    "Then used something smaller like lr = 0.001 and epochs = 100 (same as first experiment.)\n",
    "\n",
    "The plot was better but the slope seemed to be off, so decided to use epochs = 1000 and got the previous resulted which seemed to be betters. :)"
   ]
  }
 ],
 "metadata": {
  "kernelspec": {
   "display_name": "mi_ambiente",
   "language": "python",
   "name": "python3"
  },
  "language_info": {
   "codemirror_mode": {
    "name": "ipython",
    "version": 3
   },
   "file_extension": ".py",
   "mimetype": "text/x-python",
   "name": "python",
   "nbconvert_exporter": "python",
   "pygments_lexer": "ipython3",
   "version": "3.11.13"
  }
 },
 "nbformat": 4,
 "nbformat_minor": 5
}
